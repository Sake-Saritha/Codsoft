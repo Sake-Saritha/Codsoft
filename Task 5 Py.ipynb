{
  "cells": [
    {
      "cell_type": "code",
      "execution_count": 2,
      "metadata": {
        "colab": {
          "base_uri": "https://localhost:8080/"
        },
        "id": "nR0Eq_TmynzV",
        "outputId": "1f9b2dc6-d8d2-485b-a2db-c6cfa5e6d76b"
      },
      "outputs": [
        {
          "name": "stdout",
          "output_type": "stream",
          "text": [
            "Welcome to the Quiz Game!\n",
            "Answer the following questions by selecting the correct option.\n",
            "What is the capital of France?\n",
            "1. Paris\n",
            "2. London\n",
            "3. Berlin\n",
            "4. Madrid\n",
            "Select your answer (1/2/3/4): 2\n",
            "Incorrect. The correct answer is: Paris\n",
            "Which planet is known as the Red Planet?\n",
            "1. Mars\n",
            "2. Jupiter\n",
            "3. Venus\n",
            "4. Mercury\n",
            "Select your answer (1/2/3/4): 2\n",
            "Incorrect. The correct answer is: Mars\n",
            "Who painted the Mona Lisa?\n",
            "1. Vincent van Gogh\n",
            "2. Leonardo da Vinci\n",
            "3. Pablo Picasso\n",
            "4. Michelangelo\n",
            "Select your answer (1/2/3/4): 4\n",
            "Incorrect. The correct answer is: Leonardo da Vinci\n",
            "\n",
            "Quiz completed!\n",
            "Your score: 0/3\n",
            "Do you want to play again? (yes/no): no\n",
            "Thank you for playing!\n"
          ]
        }
      ],
      "source": [
        "import random\n",
        "\n",
        "# Sample quiz questions and answers\n",
        "quiz_data = [\n",
        "    {\n",
        "        \"question\": \"What is the capital of France?\",\n",
        "        \"choices\": [\"Paris\", \"London\", \"Berlin\", \"Madrid\"],\n",
        "        \"correct_answer\": \"Paris\"\n",
        "    },\n",
        "    {\n",
        "        \"question\": \"Which planet is known as the Red Planet?\",\n",
        "        \"choices\": [\"Mars\", \"Jupiter\", \"Venus\", \"Mercury\"],\n",
        "        \"correct_answer\": \"Mars\"\n",
        "    },\n",
        "    {\n",
        "        \"question\": \"Who painted the Mona Lisa?\",\n",
        "        \"choices\": [\"Vincent van Gogh\", \"Leonardo da Vinci\", \"Pablo Picasso\", \"Michelangelo\"],\n",
        "        \"correct_answer\": \"Leonardo da Vinci\"\n",
        "    }\n",
        "]\n",
        "\n",
        "def present_question(question_data):\n",
        "    print(question_data[\"question\"])\n",
        "    for i, choice in enumerate(question_data[\"choices\"], start=1):\n",
        "        print(f\"{i}. {choice}\")\n",
        "\n",
        "    user_choice = input(\"Select your answer (1/2/3/4): \")\n",
        "    return user_choice\n",
        "\n",
        "def evaluate_answer(user_choice, correct_answer):\n",
        "    return user_choice.lower() == correct_answer.lower()\n",
        "\n",
        "def main():\n",
        "    print(\"Welcome to the Quiz Game!\")\n",
        "    print(\"Answer the following questions by selecting the correct option.\")\n",
        "\n",
        "    score = 0\n",
        "    total_questions = len(quiz_data)\n",
        "\n",
        "    random.shuffle(quiz_data)\n",
        "\n",
        "    for question_data in quiz_data:\n",
        "        user_choice = present_question(question_data)\n",
        "        correct_answer = question_data[\"correct_answer\"]\n",
        "\n",
        "        if evaluate_answer(user_choice, correct_answer):\n",
        "            print(\"Correct!\")\n",
        "            score += 1\n",
        "        else:\n",
        "            print(f\"Incorrect. The correct answer is: {correct_answer}\")\n",
        "\n",
        "    print(\"\\nQuiz completed!\")\n",
        "    print(f\"Your score: {score}/{total_questions}\")\n",
        "\n",
        "    play_again = input(\"Do you want to play again? (yes/no): \")\n",
        "    if play_again.lower() == \"yes\":\n",
        "        main()\n",
        "    else:\n",
        "        print(\"Thank you for playing!\")\n",
        "\n",
        "if __name__ == \"__main__\":\n",
        "    main()\n"
      ]
    }
  ],
  "metadata": {
    "colab": {
      "provenance": []
    },
    "kernelspec": {
      "display_name": "Python 3",
      "name": "python3"
    },
    "language_info": {
      "name": "python"
    }
  },
  "nbformat": 4,
  "nbformat_minor": 0
}
