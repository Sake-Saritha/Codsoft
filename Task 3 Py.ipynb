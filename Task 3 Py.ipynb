{
  "cells": [
    {
      "cell_type": "code",
      "execution_count": 1,
      "metadata": {
        "colab": {
          "base_uri": "https://localhost:8080/"
        },
        "id": "sGj-MCWZv2Yr",
        "outputId": "92c8e5cf-eea7-4225-e8ca-9c8d3008aefd"
      },
      "outputs": [
        {
          "name": "stdout",
          "output_type": "stream",
          "text": [
            "Password Generator\n",
            "Enter desired password length: 5\n",
            "Generated Password: sgA)0\n"
          ]
        }
      ],
      "source": [
        "import random\n",
        "import string\n",
        "\n",
        "def generate_password(length):\n",
        "    characters = string.ascii_letters + string.digits + string.punctuation\n",
        "    password = ''.join(random.choice(characters) for _ in range(length))\n",
        "    return password\n",
        "\n",
        "def main():\n",
        "    print(\"Password Generator\")\n",
        "    try:\n",
        "        length = int(input(\"Enter desired password length: \"))\n",
        "        if length <= 0:\n",
        "            print(\"Password length must be a positive number.\")\n",
        "            return\n",
        "\n",
        "        password = generate_password(length)\n",
        "        print(\"Generated Password:\", password)\n",
        "\n",
        "    except ValueError:\n",
        "        print(\"Invalid input. Please enter a valid number.\")\n",
        "\n",
        "if __name__ == \"__main__\":\n",
        "    main()\n"
      ]
    }
  ],
  "metadata": {
    "colab": {
      "provenance": []
    },
    "kernelspec": {
      "display_name": "Python 3",
      "name": "python3"
    },
    "language_info": {
      "name": "python"
    }
  },
  "nbformat": 4,
  "nbformat_minor": 0
}
