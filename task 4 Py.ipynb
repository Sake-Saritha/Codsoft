{
  "cells": [
    {
      "cell_type": "code",
      "execution_count": 2,
      "metadata": {
        "colab": {
          "base_uri": "https://localhost:8080/"
        },
        "id": "36tCDyS9wjUe",
        "outputId": "b5527249-57db-4bdc-d460-50b375f165cb"
      },
      "outputs": [
        {
          "name": "stdout",
          "output_type": "stream",
          "text": [
            "Weather Forecast Application\n",
            "Enter city name or zip code: Delhi\n",
            "Unable to retrieve weather data. Please check the location.\n"
          ]
        }
      ],
      "source": [
        "import requests\n",
        "\n",
        "def get_weather_data(location):\n",
        "    api_key = \"YOUR_API_KEY_HERE\"  # Replace with your OpenWeatherMap API key\n",
        "    base_url = \"http://api.openweathermap.org/data/2.5/weather\"\n",
        "\n",
        "    params = {\n",
        "        \"q\": location,\n",
        "        \"appid\": api_key,\n",
        "        \"units\": \"metric\"  # Use metric units for temperature in Celsius\n",
        "    }\n",
        "\n",
        "    response = requests.get(base_url, params=params)\n",
        "    data = response.json()\n",
        "\n",
        "    return data\n",
        "\n",
        "def display_weather(weather_data):\n",
        "    temperature = weather_data[\"main\"][\"temp\"]\n",
        "    humidity = weather_data[\"main\"][\"humidity\"]\n",
        "    wind_speed = weather_data[\"wind\"][\"speed\"]\n",
        "    weather_description = weather_data[\"weather\"][0][\"description\"]\n",
        "\n",
        "    print(\"Weather Forecast\")\n",
        "    print(f\"Temperature: {temperature}°C\")\n",
        "    print(f\"Humidity: {humidity}%\")\n",
        "    print(f\"Wind Speed: {wind_speed} m/s\")\n",
        "    print(f\"Description: {weather_description.capitalize()}\")\n",
        "\n",
        "def main():\n",
        "    print(\"Weather Forecast Application\")\n",
        "    location = input(\"Enter city name or zip code: \")\n",
        "\n",
        "    weather_data = get_weather_data(location)\n",
        "\n",
        "    if \"main\" in weather_data:\n",
        "        display_weather(weather_data)\n",
        "    else:\n",
        "        print(\"Unable to retrieve weather data. Please check the location.\")\n",
        "\n",
        "if __name__ == \"__main__\":\n",
        "    main()\n"
      ]
    }
  ],
  "metadata": {
    "colab": {
      "provenance": []
    },
    "kernelspec": {
      "display_name": "Python 3",
      "name": "python3"
    },
    "language_info": {
      "name": "python"
    }
  },
  "nbformat": 4,
  "nbformat_minor": 0
}
