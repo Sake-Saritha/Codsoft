{
  "cells": [
    {
      "cell_type": "code",
      "execution_count": 1,
      "metadata": {
        "colab": {
          "base_uri": "https://localhost:8080/"
        },
        "id": "89XnWp07u6aC",
        "outputId": "8dc57b01-73b0-4707-dab0-b15f30f62a83"
      },
      "outputs": [
        {
          "name": "stdout",
          "output_type": "stream",
          "text": [
            "Simple Calculator\n",
            "Operations:\n",
            "1. Add\n",
            "2. Subtract\n",
            "3. Multiply\n",
            "4. Divide\n",
            "Select operation (1/2/3/4): 3\n",
            "Enter first number: 156465\n",
            "Enter second number: 2315\n",
            "Result: 362216475.0\n"
          ]
        }
      ],
      "source": [
        "def add(x, y):\n",
        "    return x + y\n",
        "\n",
        "def subtract(x, y):\n",
        "    return x - y\n",
        "\n",
        "def multiply(x, y):\n",
        "    return x * y\n",
        "\n",
        "def divide(x, y):\n",
        "    if y == 0:\n",
        "        raise ValueError(\"Cannot divide by zero\")\n",
        "    return x / y\n",
        "\n",
        "print(\"Simple Calculator\")\n",
        "print(\"Operations:\")\n",
        "print(\"1. Add\")\n",
        "print(\"2. Subtract\")\n",
        "print(\"3. Multiply\")\n",
        "print(\"4. Divide\")\n",
        "\n",
        "try:\n",
        "    choice = int(input(\"Select operation (1/2/3/4): \"))\n",
        "    num1 = float(input(\"Enter first number: \"))\n",
        "    num2 = float(input(\"Enter second number: \"))\n",
        "\n",
        "    if choice == 1:\n",
        "        result = add(num1, num2)\n",
        "    elif choice == 2:\n",
        "        result = subtract(num1, num2)\n",
        "    elif choice == 3:\n",
        "        result = multiply(num1, num2)\n",
        "    elif choice == 4:\n",
        "        result = divide(num1, num2)\n",
        "    else:\n",
        "        print(\"Invalid choice\")\n",
        "        exit()\n",
        "\n",
        "    print(\"Result:\", result)\n",
        "\n",
        "except ValueError as e:\n",
        "    print(\"Error:\", e)\n",
        "except ZeroDivisionError as e:\n",
        "    print(\"Error:\", e)\n"
      ]
    }
  ],
  "metadata": {
    "colab": {
      "provenance": []
    },
    "kernelspec": {
      "display_name": "Python 3",
      "name": "python3"
    },
    "language_info": {
      "name": "python"
    }
  },
  "nbformat": 4,
  "nbformat_minor": 0
}
